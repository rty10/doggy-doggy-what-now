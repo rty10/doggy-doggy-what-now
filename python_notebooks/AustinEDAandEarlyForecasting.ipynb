{
 "cells": [
  {
   "cell_type": "markdown",
   "metadata": {},
   "source": [
    "The following is an early attempt at EDA for Austin, TX and getting some ideas down for forecasting and what not ahead of Thursday's meeting (5/23) - JPH"
   ]
  },
  {
   "cell_type": "code",
   "execution_count": 2,
   "metadata": {},
   "outputs": [],
   "source": [
    "import numpy as np\n",
    "import pandas as pd\n",
    "import matplotlib.pyplot as plt"
   ]
  },
  {
   "cell_type": "code",
   "execution_count": 3,
   "metadata": {},
   "outputs": [],
   "source": [
    "Austindf = pd.read_csv(\"../main_data/locale_specific_data/AustinTXOutcomeClean.csv\")"
   ]
  },
  {
   "cell_type": "code",
   "execution_count": 4,
   "metadata": {},
   "outputs": [
    {
     "name": "stdout",
     "output_type": "stream",
     "text": [
      "   Unnamed: 0    DateTime  Stray_Abandoned  Euthanasia_Req  Public_Assist  \\\n",
      "0           0  2013-10-01               30               1              2   \n",
      "1           1  2013-10-02               20               0              4   \n",
      "2           2  2013-10-03               19               0              4   \n",
      "3           3  2013-10-04               24               0              0   \n",
      "4           4  2013-10-05               27               0              4   \n",
      "\n",
      "   Owner_Surrender  Other  TotalIntakes  \n",
      "0                9      0            42  \n",
      "1                4      0            28  \n",
      "2                3      0            26  \n",
      "3                6      0            30  \n",
      "4                8      0            39  \n"
     ]
    }
   ],
   "source": [
    "print(Austindf.head())"
   ]
  },
  {
   "cell_type": "code",
   "execution_count": 6,
   "metadata": {},
   "outputs": [],
   "source": [
    "Austinemploy = pd.read_csv(\"../main_data/locale_specific_data/AustinUnemploymentDaily.csv\")\n",
    "CPIdf = pd.read_csv(\"../main_data/features_data/cpi.csv\")"
   ]
  }
 ],
 "metadata": {
  "kernelspec": {
   "display_name": "pythonforerdos",
   "language": "python",
   "name": "python3"
  },
  "language_info": {
   "codemirror_mode": {
    "name": "ipython",
    "version": 3
   },
   "file_extension": ".py",
   "mimetype": "text/x-python",
   "name": "python",
   "nbconvert_exporter": "python",
   "pygments_lexer": "ipython3",
   "version": "3.12.3"
  }
 },
 "nbformat": 4,
 "nbformat_minor": 2
}
